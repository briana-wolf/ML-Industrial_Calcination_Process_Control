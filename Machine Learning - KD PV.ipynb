{
 "cells": [
  {
   "cell_type": "markdown",
   "metadata": {},
   "source": [
    "Import relevant packages."
   ]
  },
  {
   "cell_type": "code",
   "execution_count": 1,
   "metadata": {},
   "outputs": [],
   "source": [
    "import pandas as pd\n",
    "import numpy as np\n",
    "\n",
    "from sklearn.model_selection import train_test_split\n",
    "\n",
    "from sklearn.metrics import mean_absolute_error\n",
    "from sklearn.metrics import r2_score\n",
    "\n",
    "from sklearn import model_selection\n",
    "from sklearn.linear_model import LogisticRegression\n",
    "from sklearn.tree import DecisionTreeRegressor\n",
    "from sklearn.ensemble import RandomForestRegressor\n",
    "from sklearn.neighbors import KNeighborsRegressor\n",
    "from sklearn.discriminant_analysis import LinearDiscriminantAnalysis\n",
    "from sklearn.naive_bayes import GaussianNB\n",
    "from sklearn.svm import SVC\n",
    "\n",
    "#sudo pip install xgboost\n",
    "#from xgboost import XGBClassifier\n",
    "\n",
    "import matplotlib.pyplot as plt\n",
    "#import seaborn as sns"
   ]
  },
  {
   "cell_type": "code",
   "execution_count": 2,
   "metadata": {},
   "outputs": [
    {
     "name": "stdout",
     "output_type": "stream",
     "text": [
      "<class 'pandas.core.frame.DataFrame'>\n",
      "RangeIndex: 941 entries, 0 to 940\n",
      "Data columns (total 19 columns):\n",
      "Type                      0 non-null float64\n",
      "Time                      941 non-null object\n",
      "Date                      941 non-null datetime64[ns]\n",
      "Sample Note               724 non-null object\n",
      "Noted Time                690 non-null object\n",
      "Sample Time               923 non-null datetime64[ns]\n",
      "Product                   941 non-null object\n",
      "CompA                     173 non-null float64\n",
      "PV                        434 non-null float64\n",
      "CompF                     173 non-null float64\n",
      "Unnamed: 10               0 non-null float64\n",
      "Unnamed: 11               0 non-null float64\n",
      "Time Start in Kiln        923 non-null datetime64[ns]\n",
      "Kiln_Gas_Valve            940 non-null object\n",
      "Kiln Gas Smooth           940 non-null float64\n",
      "Kiln_Temp_Radia           940 non-null object\n",
      "Kiln Temp Smooth          940 non-null float64\n",
      "Kiln Rotation SPD-FDBK    940 non-null object\n",
      "Kiln Rotation Smooth      940 non-null float64\n",
      "dtypes: datetime64[ns](3), float64(9), object(7)\n",
      "memory usage: 139.8+ KB\n"
     ]
    }
   ],
   "source": [
    "importdata=pd.read_excel(r'C:\\Briana Files\\programming\\ML AT\\KD - mod.xlsx')\n",
    "importdata.info()"
   ]
  },
  {
   "cell_type": "markdown",
   "metadata": {},
   "source": [
    "Other data fields are more complete than PV. Since PV is the item we are predicting, let's only look at rows where we are not missing PV. "
   ]
  },
  {
   "cell_type": "code",
   "execution_count": 3,
   "metadata": {},
   "outputs": [
    {
     "name": "stdout",
     "output_type": "stream",
     "text": [
      "<class 'pandas.core.frame.DataFrame'>\n",
      "Int64Index: 434 entries, 14 to 939\n",
      "Data columns (total 19 columns):\n",
      "Type                      0 non-null float64\n",
      "Time                      434 non-null object\n",
      "Date                      434 non-null datetime64[ns]\n",
      "Sample Note               363 non-null object\n",
      "Noted Time                336 non-null object\n",
      "Sample Time               434 non-null datetime64[ns]\n",
      "Product                   434 non-null object\n",
      "CompA                     44 non-null float64\n",
      "PV                        434 non-null float64\n",
      "CompF                     44 non-null float64\n",
      "Unnamed: 10               0 non-null float64\n",
      "Unnamed: 11               0 non-null float64\n",
      "Time Start in Kiln        434 non-null datetime64[ns]\n",
      "Kiln_Gas_Valve            434 non-null object\n",
      "Kiln Gas Smooth           434 non-null float64\n",
      "Kiln_Temp_Radia           434 non-null object\n",
      "Kiln Temp Smooth          434 non-null float64\n",
      "Kiln Rotation SPD-FDBK    434 non-null object\n",
      "Kiln Rotation Smooth      434 non-null float64\n",
      "dtypes: datetime64[ns](3), float64(9), object(7)\n",
      "memory usage: 67.8+ KB\n"
     ]
    }
   ],
   "source": [
    "idata=importdata.dropna(subset=['PV'])   \n",
    "idata.info()"
   ]
  },
  {
   "cell_type": "code",
   "execution_count": 4,
   "metadata": {},
   "outputs": [],
   "source": [
    "#Let's create some variables to make referencing column names easier\n",
    "kiln_temp='Kiln Temp Smooth'\n",
    "kiln_gas='Kiln Gas Smooth'\n",
    "kiln_time='Time Start in Kiln'\n",
    "sample_time='Sample Time'\n",
    "kiln_rot = 'Kiln Rotation Smooth'\n",
    "PV= \"PV\"\n",
    "CompA = \"CompA\"\n",
    "CompF = \"CompF\""
   ]
  },
  {
   "cell_type": "code",
   "execution_count": 5,
   "metadata": {},
   "outputs": [],
   "source": [
    "data=idata"
   ]
  },
  {
   "cell_type": "markdown",
   "metadata": {},
   "source": [
    "#Data Exploration"
   ]
  },
  {
   "cell_type": "code",
   "execution_count": 6,
   "metadata": {},
   "outputs": [
    {
     "name": "stderr",
     "output_type": "stream",
     "text": [
      "C:\\ProgramData\\Anaconda3\\lib\\site-packages\\pandas\\plotting\\_converter.py:129: FutureWarning: Using an implicitly registered datetime converter for a matplotlib plotting method. The converter was registered by pandas on import. Future versions of pandas will require you to explicitly register matplotlib converters.\n",
      "\n",
      "To register the converters:\n",
      "\t>>> from pandas.plotting import register_matplotlib_converters\n",
      "\t>>> register_matplotlib_converters()\n",
      "  warnings.warn(msg, FutureWarning)\n"
     ]
    },
    {
     "data": {
      "text/plain": [
       "Text(0.5, 1.0, 'Lab Results Over Time')"
      ]
     },
     "execution_count": 6,
     "metadata": {},
     "output_type": "execute_result"
    },
    {
     "data": {
      "image/png": "[encoded data removed]",
      "text/plain": [
       "<Figure size 432x288 with 1 Axes>"
      ]
     },
     "metadata": {
      "needs_background": "light"
     },
     "output_type": "display_data"
    }
   ],
   "source": [
    "plt.scatter(data[kiln_time],data[PV], label =PV)\n",
    "plt.scatter(data[kiln_time],data[CompA], label =CompA)\n",
    "plt.scatter(data[kiln_time],data[CompF], label =CompF)\n",
    "plt.legend()\n",
    "plt.xlabel('Date')\n",
    "plt.ylabel('PV')\n",
    "plt.title(\"Lab Results Over Time\")\n"
   ]
  },
  {
   "cell_type": "markdown",
   "metadata": {},
   "source": [
    "This product is run in campaigns which is where there are gaps between sections. Each run centers around a similar range but there is a difference in variation. \n",
    "We only have composition data for two runs, so our models using such data would be limited.  "
   ]
  },
  {
   "cell_type": "markdown",
   "metadata": {},
   "source": [
    "Let's look at one run in more detail to visually see how control variables might impact PV. "
   ]
  },
  {
   "cell_type": "code",
   "execution_count": 7,
   "metadata": {},
   "outputs": [
    {
     "data": {
      "text/plain": [
       "Text(0, 0.5, 'PV')"
      ]
     },
     "execution_count": 7,
     "metadata": {},
     "output_type": "execute_result"
    },
    {
     "data": {
      "image/png": "[encoded data removed]",
      "text/plain": [
       "<Figure size 432x288 with 1 Axes>"
      ]
     },
     "metadata": {
      "needs_background": "light"
     },
     "output_type": "display_data"
    }
   ],
   "source": [
    "Run_2018_05 = data[data['Date']> '2018-04-15']\n",
    "plt.scatter(Run_2018_05[kiln_time],Run_2018_05[PV])\n",
    "plt.scatter(Run_2018_05[kiln_time],Run_2018_05[kiln_gas])\n",
    "plt.scatter(Run_2018_05[kiln_time],Run_2018_05[kiln_rot])\n",
    "plt.xlim(\"2018-04-18\",\"2018-05-12\")\n",
    "plt.xticks(rotation=45)\n",
    "plt.ylim(0,160)\n",
    "plt.ylabel('PV')\n"
   ]
  },
  {
   "cell_type": "markdown",
   "metadata": {},
   "source": [
    "#Principal Component Analysis\n",
    "Let's look at what variable might have the greatest impact. "
   ]
  },
  {
   "cell_type": "code",
   "execution_count": 8,
   "metadata": {},
   "outputs": [],
   "source": [
    "#from sklearn.decomposition import PCA\n",
    "#pca = PCA()\n",
    "#pca.fit_transform(X)\n",
    "#covariance=pca.get_covariance()\n",
    "#explained_variance=pca.explained_variance_\n",
    "\n",
    "\n",
    "#with plt.style.context('dark_background'):\n",
    "#plt.figure(figsize=(6, 4))\n",
    "#plt.bar(explained_variance)    \n",
    "   #plt.bar(range(22), explained_variance, alpha=0.5, align='center',\n",
    "    #        label='individual explained variance')\n",
    "    #plt.ylabel('Explained variance ratio')\n",
    "    #plt.xlabel('Principal components')\n",
    "    #plt.legend(loc='best')\n",
    "    #plt.tight_layout()"
   ]
  },
  {
   "cell_type": "markdown",
   "metadata": {},
   "source": [
    "#Develop ML models"
   ]
  },
  {
   "cell_type": "markdown",
   "metadata": {},
   "source": [
    "With the small amount of data available, low-complexity models are preferred as overfitting is a concern. "
   ]
  },
  {
   "cell_type": "markdown",
   "metadata": {},
   "source": [
    "Select fields to use as predictors and define predicted output. "
   ]
  },
  {
   "cell_type": "code",
   "execution_count": 9,
   "metadata": {},
   "outputs": [],
   "source": [
    "predictors=[kiln_rot,kiln_temp]\n",
    "X=data[predictors]\n",
    "y=data[PV]"
   ]
  },
  {
   "cell_type": "markdown",
   "metadata": {},
   "source": [
    "Split data into train and test sets. "
   ]
  },
  {
   "cell_type": "code",
   "execution_count": 10,
   "metadata": {},
   "outputs": [],
   "source": [
    "X_train, X_test, y_train, y_test = train_test_split(X, y, test_size=0.25, random_state=0)"
   ]
  },
  {
   "cell_type": "markdown",
   "metadata": {},
   "source": [
    "Models will be evaluated based on mean absolute error and correlation coefficient. A dataframe is set up to collect these results and summarize. "
   ]
  },
  {
   "cell_type": "code",
   "execution_count": 11,
   "metadata": {},
   "outputs": [
    {
     "data": {
      "text/html": [
       "<div>\n",
       "<style scoped>\n",
       "    .dataframe tbody tr th:only-of-type {\n",
       "        vertical-align: middle;\n",
       "    }\n",
       "\n",
       "    .dataframe tbody tr th {\n",
       "        vertical-align: top;\n",
       "    }\n",
       "\n",
       "    .dataframe thead th {\n",
       "        text-align: right;\n",
       "    }\n",
       "</style>\n",
       "<table border=\"1\" class=\"dataframe\">\n",
       "  <thead>\n",
       "    <tr style=\"text-align: right;\">\n",
       "      <th></th>\n",
       "      <th>Model</th>\n",
       "      <th>Mean Abs Error</th>\n",
       "      <th>r2</th>\n",
       "    </tr>\n",
       "  </thead>\n",
       "  <tbody>\n",
       "  </tbody>\n",
       "</table>\n",
       "</div>"
      ],
      "text/plain": [
       "Empty DataFrame\n",
       "Columns: [Model, Mean Abs Error, r2]\n",
       "Index: []"
      ]
     },
     "execution_count": 11,
     "metadata": {},
     "output_type": "execute_result"
    }
   ],
   "source": [
    "M_summary = pd.DataFrame(columns=['Model','Mean Abs Error',\"r2\"])\n",
    "M_summary.set_index(\"Model\")\n",
    "M_summary.head()"
   ]
  },
  {
   "cell_type": "markdown",
   "metadata": {},
   "source": [
    "#Model 1: Median"
   ]
  },
  {
   "cell_type": "raw",
   "metadata": {},
   "source": [
    "Our baseline for comparison will using the median to predict PV. "
   ]
  },
  {
   "cell_type": "code",
   "execution_count": 12,
   "metadata": {},
   "outputs": [],
   "source": [
    "#Run Model\n",
    "M1Name = \"M1_Median\"\n",
    "M1_train = np.median(y_train)\n",
    "M1_predict = pd.DataFrame(index=X_test.index)\n",
    "M1_predict['y predict'] = M1_train\n",
    "\n",
    "#Assess Fit\n",
    "M1_MAE = mean_absolute_error(y_test, M1_predict['y predict'] )\n",
    "M1_r2 = r2_score(y_test, M1_predict['y predict'] )\n",
    "\n",
    "#Add model stats to summary table\n",
    "M_summary = M_summary.append({'Model' : M1Name , 'Mean Abs Error' : M1_MAE, \"r2\": M1_r2} , ignore_index=True)\n"
   ]
  },
  {
   "cell_type": "markdown",
   "metadata": {},
   "source": [
    "#Model 2: Decision Tree Regressor\n",
    "The data is all continuous so regression is used instead of classifiers. "
   ]
  },
  {
   "cell_type": "code",
   "execution_count": 13,
   "metadata": {},
   "outputs": [],
   "source": [
    "#Run Model\n",
    "M2Name = \"DT Regressor\"\n",
    "M2_model = DecisionTreeRegressor()\n",
    "M2_train = M2_model.fit(X_train,y_train)\n",
    "M2_predict = M2_train.predict(X_test)\n",
    "#M1_predict['y predict'] =M1_Mean\n",
    "\n",
    "#Assess Fit\n",
    "M2_MAE = mean_absolute_error(y_test, M2_predict)\n",
    "M2_r2 = r2_score(y_test, M2_predict )\n",
    "\n",
    "#Add model stats to summary table\n",
    "M2_stats = pd.DataFrame( {'Model' : [M2Name] , 'Mean Abs Error' : [M2_MAE], \"r2\": [M2_r2]})\n",
    "M_summary = M_summary.append(M2_stats, ignore_index=True )"
   ]
  },
  {
   "cell_type": "markdown",
   "metadata": {},
   "source": [
    "#Model 3: Random Forest Regressor"
   ]
  },
  {
   "cell_type": "code",
   "execution_count": 14,
   "metadata": {},
   "outputs": [
    {
     "name": "stderr",
     "output_type": "stream",
     "text": [
      "C:\\ProgramData\\Anaconda3\\lib\\site-packages\\sklearn\\ensemble\\forest.py:245: FutureWarning: The default value of n_estimators will change from 10 in version 0.20 to 100 in 0.22.\n",
      "  \"10 in version 0.20 to 100 in 0.22.\", FutureWarning)\n"
     ]
    }
   ],
   "source": [
    "#Run Model\n",
    "M3Name = \"RF Regressor\"\n",
    "M3_model = RandomForestRegressor()\n",
    "M3_train = M3_model.fit(X_train,y_train)\n",
    "M3_predict = M3_train.predict(X_test)\n",
    "\n",
    "#Assess Fit\n",
    "M3_MAE = mean_absolute_error(y_test, M3_predict)\n",
    "M3_r2 = r2_score(y_test, M3_predict )\n",
    "\n",
    "#Add model stats to summary table\n",
    "M3_stats = pd.DataFrame( {'Model' : [M3Name] , 'Mean Abs Error' : [M3_MAE], \"r2\": [M3_r2]})\n",
    "M_summary = M_summary.append(M3_stats, ignore_index=True )"
   ]
  },
  {
   "cell_type": "markdown",
   "metadata": {},
   "source": [
    "#Model 4: KNeighbors Regressor"
   ]
  },
  {
   "cell_type": "code",
   "execution_count": 15,
   "metadata": {},
   "outputs": [],
   "source": [
    "#Run Model\n",
    "M4Name = \"KNeighbors Regressor\"\n",
    "M4_model = KNeighborsRegressor(n_neighbors=15)\n",
    "M4_train = M4_model.fit(X_train,y_train)\n",
    "M4_predict = M4_train.predict(X_test)\n",
    "\n",
    "#Assess Fit\n",
    "M4_MAE = mean_absolute_error(y_test, M4_predict)\n",
    "M4_r2 = r2_score(y_test, M4_predict )\n",
    "\n",
    "#Add model stats to summary table\n",
    "M4_stats = pd.DataFrame( {'Model' : [M4Name] , 'Mean Abs Error' : [M4_MAE], \"r2\": [M4_r2]})\n",
    "M_summary = M_summary.append(M4_stats, ignore_index=True )"
   ]
  },
  {
   "cell_type": "markdown",
   "metadata": {},
   "source": [
    "#Model Comparison"
   ]
  },
  {
   "cell_type": "code",
   "execution_count": 16,
   "metadata": {},
   "outputs": [],
   "source": [
    "M_summary = M_summary.set_index(\"Model\")"
   ]
  },
  {
   "cell_type": "code",
   "execution_count": 17,
   "metadata": {},
   "outputs": [
    {
     "data": {
      "text/plain": [
       "<matplotlib.legend.Legend at 0x22124953ef0>"
      ]
     },
     "execution_count": 17,
     "metadata": {},
     "output_type": "execute_result"
    },
    {
     "data": {
      "image/png": "[encoded data removed]",
      "text/plain": [
       "<Figure size 432x288 with 2 Axes>"
      ]
     },
     "metadata": {
      "needs_background": "light"
     },
     "output_type": "display_data"
    }
   ],
   "source": [
    "M_summary.plot.bar(rot=0, subplots=True)\n",
    "plt.legend(loc=2)"
   ]
  },
  {
   "cell_type": "markdown",
   "metadata": {},
   "source": [
    "Minor difference in square error for each model. \n",
    "Some models have a negative correlation and some have a positive correlation. \n"
   ]
  },
  {
   "cell_type": "code",
   "execution_count": 18,
   "metadata": {},
   "outputs": [
    {
     "data": {
      "text/html": [
       "<div>\n",
       "<style scoped>\n",
       "    .dataframe tbody tr th:only-of-type {\n",
       "        vertical-align: middle;\n",
       "    }\n",
       "\n",
       "    .dataframe tbody tr th {\n",
       "        vertical-align: top;\n",
       "    }\n",
       "\n",
       "    .dataframe thead th {\n",
       "        text-align: right;\n",
       "    }\n",
       "</style>\n",
       "<table border=\"1\" class=\"dataframe\">\n",
       "  <thead>\n",
       "    <tr style=\"text-align: right;\">\n",
       "      <th></th>\n",
       "      <th>PV</th>\n",
       "      <th>M1_Median</th>\n",
       "      <th>DT Regressor</th>\n",
       "      <th>RF Regressor</th>\n",
       "      <th>KNeighbors Regressor</th>\n",
       "    </tr>\n",
       "  </thead>\n",
       "  <tbody>\n",
       "    <tr>\n",
       "      <th>855</th>\n",
       "      <td>113.4</td>\n",
       "      <td>78.6</td>\n",
       "      <td>120.2</td>\n",
       "      <td>93.84</td>\n",
       "      <td>87.680000</td>\n",
       "    </tr>\n",
       "    <tr>\n",
       "      <th>441</th>\n",
       "      <td>106.2</td>\n",
       "      <td>78.6</td>\n",
       "      <td>130.6</td>\n",
       "      <td>104.76</td>\n",
       "      <td>104.106667</td>\n",
       "    </tr>\n",
       "    <tr>\n",
       "      <th>930</th>\n",
       "      <td>94.6</td>\n",
       "      <td>78.6</td>\n",
       "      <td>60.9</td>\n",
       "      <td>73.57</td>\n",
       "      <td>90.106667</td>\n",
       "    </tr>\n",
       "    <tr>\n",
       "      <th>763</th>\n",
       "      <td>53.6</td>\n",
       "      <td>78.6</td>\n",
       "      <td>54.2</td>\n",
       "      <td>72.30</td>\n",
       "      <td>75.946667</td>\n",
       "    </tr>\n",
       "    <tr>\n",
       "      <th>74</th>\n",
       "      <td>101.7</td>\n",
       "      <td>78.6</td>\n",
       "      <td>57.8</td>\n",
       "      <td>96.38</td>\n",
       "      <td>91.400000</td>\n",
       "    </tr>\n",
       "  </tbody>\n",
       "</table>\n",
       "</div>"
      ],
      "text/plain": [
       "        PV  M1_Median  DT Regressor  RF Regressor  KNeighbors Regressor\n",
       "855  113.4       78.6         120.2         93.84             87.680000\n",
       "441  106.2       78.6         130.6        104.76            104.106667\n",
       "930   94.6       78.6          60.9         73.57             90.106667\n",
       "763   53.6       78.6          54.2         72.30             75.946667\n",
       "74   101.7       78.6          57.8         96.38             91.400000"
      ]
     },
     "execution_count": 18,
     "metadata": {},
     "output_type": "execute_result"
    }
   ],
   "source": [
    "#Combine all predicted data sets to compare against actual\n",
    "predictions = pd.DataFrame(y_test)\n",
    "predictions[M1Name] = M1_predict\n",
    "predictions[M2Name] = M2_predict\n",
    "predictions[M3Name] = M3_predict\n",
    "predictions[M4Name] = M4_predict\n",
    "\n",
    "#predictions[\"Time\"] = x_test[]\n",
    "\n",
    "predictions.head()"
   ]
  },
  {
   "cell_type": "code",
   "execution_count": 19,
   "metadata": {},
   "outputs": [
    {
     "data": {
      "text/plain": [
       "<matplotlib.legend.Legend at 0x2212451bd30>"
      ]
     },
     "execution_count": 19,
     "metadata": {},
     "output_type": "execute_result"
    },
    {
     "data": {
      "image/png": "[encoded data removed]",
      "text/plain": [
       "<Figure size 432x288 with 1 Axes>"
      ]
     },
     "metadata": {
      "needs_background": "light"
     },
     "output_type": "display_data"
    }
   ],
   "source": [
    "plt.scatter(predictions[PV],predictions[PV], label =\"Actual\")\n",
    "plt.scatter(predictions[PV],predictions[M1Name], label =M1Name)\n",
    "plt.scatter(predictions[PV],predictions[M2Name], label =M2Name)\n",
    "plt.scatter(predictions[PV],predictions[M3Name], label =M3Name)\n",
    "plt.scatter(predictions[PV],predictions[M4Name], label =M4Name)\n",
    "plt.title(\"Predicted vs Actual PV\")\n",
    "plt.xlabel(\"Actual PV\")\n",
    "plt.ylabel(\"Predicted PV\")\n",
    "plt.xlim(40,300)\n",
    "plt.ylim(40,300)\n",
    "plt.legend()"
   ]
  },
  {
   "cell_type": "markdown",
   "metadata": {},
   "source": [
    "Outliers may be due to sampling error. Removing could improve model. "
   ]
  },
  {
   "cell_type": "markdown",
   "metadata": {},
   "source": [
    "# Create graph to lookup what rotation to set based on temp and desired PV\n",
    "As an intermediate step to implementing machine learning. Could "
   ]
  },
  {
   "cell_type": "code",
   "execution_count": 22,
   "metadata": {},
   "outputs": [
    {
     "data": {
      "text/plain": [
       "Text(0.5, 1.0, 'Determine Rotation Setting based on Temp and Desired AT')"
      ]
     },
     "execution_count": 22,
     "metadata": {},
     "output_type": "execute_result"
    },
    {
     "data": {
      "image/png": "[encoded data removed]",
      "text/plain": [
       "<Figure size 432x288 with 1 Axes>"
      ]
     },
     "metadata": {
      "needs_background": "light"
     },
     "output_type": "display_data"
    }
   ],
   "source": [
    "kiln_rot_isos=[10,15,17,20]\n",
    "\n",
    "for i in kiln_rot_isos:\n",
    "    kiln_temp_series=list(range(int(data[kiln_temp].min()),int(data[kiln_temp].max()),10))\n",
    "    kiln_rot_series=[i]*len(kiln_temp_series)\n",
    "    X_plot1=pd.DataFrame({kiln_rot:kiln_rot_series,kiln_temp:kiln_temp_series})\n",
    "\n",
    "\n",
    "    #print(X_plot1)\n",
    "    #X_plot1[kiln_rot].apply(lambda x: x**2)y_plot1=rf.predict(X_plot1)\n",
    "    y_plot1=M2_train.predict(X_plot1)\n",
    "    plt.plot(X_plot1[kiln_temp],y_plot1)\n",
    "\n",
    "plt.xlabel(kiln_temp)\n",
    "plt.ylabel('AT,sec')\n",
    "plt.legend(kiln_rot_isos)\n",
    "plt.title('Determine Rotation Setting based on Temp and Desired AT')\n",
    "  \n"
   ]
  },
  {
   "cell_type": "code",
   "execution_count": 21,
   "metadata": {},
   "outputs": [
    {
     "ename": "NameError",
     "evalue": "name 'rf' is not defined",
     "output_type": "error",
     "traceback": [
      "\u001b[1;31m---------------------------------------------------------------------------\u001b[0m",
      "\u001b[1;31mNameError\u001b[0m                                 Traceback (most recent call last)",
      "\u001b[1;32m<ipython-input-21-677a209b6382>\u001b[0m in \u001b[0;36m<module>\u001b[1;34m\u001b[0m\n\u001b[0;32m      9\u001b[0m     \u001b[1;31m#print(X_plot1)\u001b[0m\u001b[1;33m\u001b[0m\u001b[1;33m\u001b[0m\u001b[1;33m\u001b[0m\u001b[0m\n\u001b[0;32m     10\u001b[0m     \u001b[1;31m#X_plot1[kiln_rot].apply(lambda x: x**2)y_plot1=rf.predict(X_plot1)\u001b[0m\u001b[1;33m\u001b[0m\u001b[1;33m\u001b[0m\u001b[1;33m\u001b[0m\u001b[0m\n\u001b[1;32m---> 11\u001b[1;33m     \u001b[0my_plot1\u001b[0m\u001b[1;33m=\u001b[0m\u001b[0mrf\u001b[0m\u001b[1;33m.\u001b[0m\u001b[0mpredict\u001b[0m\u001b[1;33m(\u001b[0m\u001b[0mX_plot1\u001b[0m\u001b[1;33m)\u001b[0m\u001b[1;33m\u001b[0m\u001b[1;33m\u001b[0m\u001b[0m\n\u001b[0m\u001b[0;32m     12\u001b[0m     \u001b[0mplt\u001b[0m\u001b[1;33m.\u001b[0m\u001b[0mplot\u001b[0m\u001b[1;33m(\u001b[0m\u001b[0mX_plot1\u001b[0m\u001b[1;33m[\u001b[0m\u001b[0mkiln_rot\u001b[0m\u001b[1;33m]\u001b[0m\u001b[1;33m,\u001b[0m\u001b[0my_plot1\u001b[0m\u001b[1;33m)\u001b[0m\u001b[1;33m\u001b[0m\u001b[1;33m\u001b[0m\u001b[0m\n\u001b[0;32m     13\u001b[0m \u001b[1;33m\u001b[0m\u001b[0m\n",
      "\u001b[1;31mNameError\u001b[0m: name 'rf' is not defined"
     ]
    }
   ],
   "source": [
    "kiln_temp_isos=[1800,2000,2100,2150,2200]\n",
    "\n",
    "for i in kiln_temp_isos:\n",
    "    kiln_rot_series=list(range(int(data[kiln_rot].min()),int(data[kiln_rot].max()),1))\n",
    "    kiln_temp_series=[i]*len(kiln_rot_series)\n",
    "    X_plot1=pd.DataFrame({kiln_rot:kiln_rot_series,kiln_temp:kiln_temp_series})\n",
    "\n",
    "\n",
    "    #print(X_plot1)\n",
    "    #X_plot1[kiln_rot].apply(lambda x: x**2)y_plot1=rf.predict(X_plot1)\n",
    "    y_plot1=rf.predict(X_plot1)\n",
    "    plt.plot(X_plot1[kiln_rot],y_plot1)\n",
    "\n",
    "plt.xlabel(kiln_rot)\n",
    "plt.ylabel('AT,sec')\n",
    "plt.legend(kiln_temp_isos)\n",
    "plt.title('Determine Temp Setting based on Rotation and Desired AT')\n",
    "  "
   ]
  },
  {
   "cell_type": "code",
   "execution_count": null,
   "metadata": {},
   "outputs": [],
   "source": []
  }
 ],
 "metadata": {
  "kernelspec": {
   "display_name": "Python 3",
   "language": "python",
   "name": "python3"
  },
  "language_info": {
   "codemirror_mode": {
    "name": "ipython",
    "version": 3
   },
   "file_extension": ".py",
   "mimetype": "text/x-python",
   "name": "python",
   "nbconvert_exporter": "python",
   "pygments_lexer": "ipython3",
   "version": "3.7.3"
  }
 },
 "nbformat": 4,
 "nbformat_minor": 2
}
