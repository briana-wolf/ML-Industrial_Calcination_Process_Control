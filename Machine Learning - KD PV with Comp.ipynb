{
 "cells": [
  {
   "cell_type": "markdown",
   "metadata": {},
   "source": [
    "# Import Data and Packages"
   ]
  },
  {
   "cell_type": "code",
   "execution_count": 1,
   "metadata": {},
   "outputs": [],
   "source": [
    "import pandas as pd\n",
    "import numpy as np\n",
    "\n",
    "from sklearn.model_selection import train_test_split\n",
    "\n",
    "from sklearn.metrics import mean_absolute_error\n",
    "from sklearn.metrics import r2_score\n",
    "\n",
    "from sklearn import model_selection\n",
    "from sklearn.linear_model import LogisticRegression\n",
    "from sklearn.tree import DecisionTreeRegressor\n",
    "from sklearn.ensemble import RandomForestRegressor\n",
    "from sklearn.neighbors import KNeighborsRegressor\n",
    "from sklearn.discriminant_analysis import LinearDiscriminantAnalysis\n",
    "from sklearn.naive_bayes import GaussianNB\n",
    "from sklearn.svm import SVC\n",
    "\n",
    "import matplotlib.pyplot as plt\n"
   ]
  },
  {
   "cell_type": "code",
   "execution_count": 2,
   "metadata": {},
   "outputs": [
    {
     "name": "stdout",
     "output_type": "stream",
     "text": [
      "<class 'pandas.core.frame.DataFrame'>\n",
      "Int64Index: 434 entries, 14 to 939\n",
      "Data columns (total 19 columns):\n",
      "Type                      0 non-null float64\n",
      "Time                      434 non-null object\n",
      "Date                      434 non-null datetime64[ns]\n",
      "Sample Note               363 non-null object\n",
      "Noted Time                336 non-null object\n",
      "Sample Time               434 non-null datetime64[ns]\n",
      "Product                   434 non-null object\n",
      "CompA                     44 non-null float64\n",
      "PV                        434 non-null float64\n",
      "CompF                     44 non-null float64\n",
      "Unnamed: 10               0 non-null float64\n",
      "Unnamed: 11               0 non-null float64\n",
      "Time Start in Kiln        434 non-null datetime64[ns]\n",
      "Kiln_Gas_Valve            434 non-null object\n",
      "Kiln Gas Smooth           434 non-null float64\n",
      "Kiln_Temp_Radia           434 non-null object\n",
      "Kiln Temp Smooth          434 non-null float64\n",
      "Kiln Rotation SPD-FDBK    434 non-null object\n",
      "Kiln Rotation Smooth      434 non-null float64\n",
      "dtypes: datetime64[ns](3), float64(9), object(7)\n",
      "memory usage: 67.8+ KB\n"
     ]
    }
   ],
   "source": [
    "importdata=pd.read_excel(r'C:\\Briana Files\\programming\\ML AT\\KD - mod.xlsx')\n",
    "\n",
    "#Other data fields are more complete than PV. Since PV is the item we are predicting, let's only look at rows where we are not missing PV. \n",
    "idata=importdata.dropna(subset=['PV'])   \n",
    "idata.info()"
   ]
  },
  {
   "cell_type": "code",
   "execution_count": 3,
   "metadata": {},
   "outputs": [],
   "source": [
    "#Let's create some variables to make referencing column names easier\n",
    "kiln_temp='Kiln Temp Smooth'\n",
    "kiln_gas='Kiln Gas Smooth'\n",
    "kiln_time='Time Start in Kiln'\n",
    "sample_time='Sample Time'\n",
    "kiln_rot = 'Kiln Rotation Smooth'\n",
    "PV= \"PV\"\n",
    "CompA = \"CompA\"\n",
    "CompF = \"CompF\""
   ]
  },
  {
   "cell_type": "code",
   "execution_count": 4,
   "metadata": {},
   "outputs": [],
   "source": [
    "data=idata.dropna(subset=[CompA])  "
   ]
  },
  {
   "cell_type": "markdown",
   "metadata": {},
   "source": [
    "# Data Exploration"
   ]
  },
  {
   "cell_type": "code",
   "execution_count": 5,
   "metadata": {},
   "outputs": [
    {
     "name": "stderr",
     "output_type": "stream",
     "text": [
      "C:\\ProgramData\\Anaconda3\\lib\\site-packages\\pandas\\plotting\\_converter.py:129: FutureWarning: Using an implicitly registered datetime converter for a matplotlib plotting method. The converter was registered by pandas on import. Future versions of pandas will require you to explicitly register matplotlib converters.\n",
      "\n",
      "To register the converters:\n",
      "\t>>> from pandas.plotting import register_matplotlib_converters\n",
      "\t>>> register_matplotlib_converters()\n",
      "  warnings.warn(msg, FutureWarning)\n"
     ]
    },
    {
     "data": {
      "text/plain": [
       "Text(0.5, 1.0, 'Lab Results Over Time')"
      ]
     },
     "execution_count": 5,
     "metadata": {},
     "output_type": "execute_result"
    },
    {
     "data": {
      "image/png": "[encoded data removed]",
      "text/plain": [
       "<Figure size 432x288 with 1 Axes>"
      ]
     },
     "metadata": {
      "needs_background": "light"
     },
     "output_type": "display_data"
    }
   ],
   "source": [
    "plt.scatter(data[kiln_time],data[PV], label =PV)\n",
    "plt.scatter(data[kiln_time],data[CompA], label =CompA)\n",
    "plt.scatter(data[kiln_time],data[CompF], label =CompF)\n",
    "plt.legend()\n",
    "plt.xlabel('Date')\n",
    "plt.ylabel('PV')\n",
    "plt.title(\"Lab Results Over Time\")\n",
    "\n"
   ]
  },
  {
   "cell_type": "markdown",
   "metadata": {},
   "source": [
    "This product is run in campaigns which is where there are gaps between sections. Each run centers around a similar range but there is a difference in variation. \n",
    "We only have composition data for two runs, so our models using such data would be limited.  "
   ]
  },
  {
   "cell_type": "markdown",
   "metadata": {},
   "source": [
    "Let's look at one run in more detail to visually see how control variables might impact PV. "
   ]
  },
  {
   "cell_type": "code",
   "execution_count": 6,
   "metadata": {},
   "outputs": [
    {
     "data": {
      "text/plain": [
       "Text(0.5, 1.0, 'Control Parameters as a Function of PV')"
      ]
     },
     "execution_count": 6,
     "metadata": {},
     "output_type": "execute_result"
    },
    {
     "data": {
      "image/png": "[encoded data removed]",
      "text/plain": [
       "<Figure size 432x288 with 1 Axes>"
      ]
     },
     "metadata": {
      "needs_background": "light"
     },
     "output_type": "display_data"
    }
   ],
   "source": [
    "plt.scatter(data[PV],data[kiln_rot], label =\"Rotation\")\n",
    "plt.scatter(data[PV],data[kiln_gas], label =\"Gas\")\n",
    "plt.legend()\n",
    "plt.xlabel('PV')\n",
    "plt.ylabel('Control Parameter Value')\n",
    "plt.title(\"Control Parameters as a Function of PV\")\n"
   ]
  },
  {
   "cell_type": "code",
   "execution_count": 7,
   "metadata": {},
   "outputs": [
    {
     "name": "stdout",
     "output_type": "stream",
     "text": [
      "y=-1.200789x+(2222.273913)\n"
     ]
    },
    {
     "data": {
      "image/png": "[encoded data removed]",
      "text/plain": [
       "<Figure size 432x288 with 1 Axes>"
      ]
     },
     "metadata": {
      "needs_background": "light"
     },
     "output_type": "display_data"
    }
   ],
   "source": [
    "x=data[PV]\n",
    "y=data[kiln_temp]\n",
    "plt.scatter(x=x,y=y, label =\"Temp\")\n",
    "plt.legend()\n",
    "plt.xlabel('PV')\n",
    "plt.ylabel('Control Parameter Value')\n",
    "plt.title(\"Control Parameters as a Function of PV\")\n",
    "# calc the trendline\n",
    "z = np.polyfit(x, y, 1)\n",
    "p = np.poly1d(z)\n",
    "plt.plot(x,p(x),\"r--\")\n",
    "# the line equation:\n",
    "print (\"y=%.6fx+(%.6f)\"%(z[0],z[1]))\n"
   ]
  },
  {
   "cell_type": "markdown",
   "metadata": {},
   "source": [
    "The negative correlation between kiln temperature and PV is expected. Thus kiln gas should also be negatively correlated with PV. \n",
    "Kiln rotation should be positively correlated to PV. No such relationship is seen which implies that there are other variables that impact PV and rotation has been adjusted in attempt to compensate for these variations in input characteristics. "
   ]
  },
  {
   "cell_type": "markdown",
   "metadata": {},
   "source": [
    "# Develop ML models"
   ]
  },
  {
   "cell_type": "markdown",
   "metadata": {},
   "source": [
    "With the small amount of data available, low-complexity models are preferred as overfitting is a concern. "
   ]
  },
  {
   "cell_type": "markdown",
   "metadata": {},
   "source": [
    "Select fields to use as predictors and define predicted output. "
   ]
  },
  {
   "cell_type": "code",
   "execution_count": 8,
   "metadata": {},
   "outputs": [],
   "source": [
    "predictors=[CompA,CompF]\n",
    "X=data[predictors]\n",
    "y=data[PV]"
   ]
  },
  {
   "cell_type": "markdown",
   "metadata": {},
   "source": [
    "Split data into train and test sets. "
   ]
  },
  {
   "cell_type": "code",
   "execution_count": 9,
   "metadata": {},
   "outputs": [],
   "source": [
    "X_train, X_test, y_train, y_test = train_test_split(X, y, test_size=0.25, random_state=0)"
   ]
  },
  {
   "cell_type": "markdown",
   "metadata": {},
   "source": [
    "Models will be evaluated based on mean absolute error and correlation coefficient. A dataframe is set up to collect these results and summarize. "
   ]
  },
  {
   "cell_type": "code",
   "execution_count": 10,
   "metadata": {},
   "outputs": [
    {
     "data": {
      "text/html": [
       "<div>\n",
       "<style scoped>\n",
       "    .dataframe tbody tr th:only-of-type {\n",
       "        vertical-align: middle;\n",
       "    }\n",
       "\n",
       "    .dataframe tbody tr th {\n",
       "        vertical-align: top;\n",
       "    }\n",
       "\n",
       "    .dataframe thead th {\n",
       "        text-align: right;\n",
       "    }\n",
       "</style>\n",
       "<table border=\"1\" class=\"dataframe\">\n",
       "  <thead>\n",
       "    <tr style=\"text-align: right;\">\n",
       "      <th></th>\n",
       "      <th>Model</th>\n",
       "      <th>Mean Abs Error</th>\n",
       "      <th>r2</th>\n",
       "    </tr>\n",
       "  </thead>\n",
       "  <tbody>\n",
       "  </tbody>\n",
       "</table>\n",
       "</div>"
      ],
      "text/plain": [
       "Empty DataFrame\n",
       "Columns: [Model, Mean Abs Error, r2]\n",
       "Index: []"
      ]
     },
     "execution_count": 10,
     "metadata": {},
     "output_type": "execute_result"
    }
   ],
   "source": [
    "M_summary = pd.DataFrame(columns=['Model','Mean Abs Error',\"r2\"])\n",
    "M_summary.set_index(\"Model\")\n",
    "M_summary.head()"
   ]
  },
  {
   "cell_type": "markdown",
   "metadata": {},
   "source": [
    "## Model 1: Median"
   ]
  },
  {
   "cell_type": "raw",
   "metadata": {},
   "source": [
    "Our baseline for comparison will using the median to predict PV. "
   ]
  },
  {
   "cell_type": "code",
   "execution_count": 11,
   "metadata": {},
   "outputs": [],
   "source": [
    "#Run Model\n",
    "M1Name = \"M1_Median\"\n",
    "M1_train = np.median(y_train)\n",
    "M1_predict = pd.DataFrame(index=X_test.index)\n",
    "M1_predict['y predict'] = M1_train\n",
    "\n",
    "#Assess Fit\n",
    "M1_MAE = mean_absolute_error(y_test, M1_predict['y predict'] )\n",
    "M1_r2 = r2_score(y_test, M1_predict['y predict'] )\n",
    "\n",
    "#Add model stats to summary table\n",
    "M_summary = M_summary.append({'Model' : M1Name , 'Mean Abs Error' : M1_MAE, \"r2\": M1_r2} , ignore_index=True)\n"
   ]
  },
  {
   "cell_type": "markdown",
   "metadata": {},
   "source": [
    "## Model 2: Decision Tree Regressor\n",
    "The data is all continuous so regression is used instead of classifiers. "
   ]
  },
  {
   "cell_type": "code",
   "execution_count": 12,
   "metadata": {},
   "outputs": [],
   "source": [
    "#Run Model\n",
    "M2Name = \"DT Regressor\"\n",
    "M2_model = DecisionTreeRegressor()\n",
    "M2_train = M2_model.fit(X_train,y_train)\n",
    "M2_predict = M2_train.predict(X_test)\n",
    "#M1_predict['y predict'] =M1_Mean\n",
    "\n",
    "#Assess Fit\n",
    "M2_MAE = mean_absolute_error(y_test, M2_predict)\n",
    "M2_r2 = r2_score(y_test, M2_predict )\n",
    "\n",
    "#Add model stats to summary table\n",
    "M2_stats = pd.DataFrame( {'Model' : [M2Name] , 'Mean Abs Error' : [M2_MAE], \"r2\": [M2_r2]})\n",
    "M_summary = M_summary.append(M2_stats, ignore_index=True )"
   ]
  },
  {
   "cell_type": "markdown",
   "metadata": {},
   "source": [
    "## Model 3: Random Forest Regressor"
   ]
  },
  {
   "cell_type": "code",
   "execution_count": 13,
   "metadata": {},
   "outputs": [
    {
     "name": "stderr",
     "output_type": "stream",
     "text": [
      "C:\\ProgramData\\Anaconda3\\lib\\site-packages\\sklearn\\ensemble\\forest.py:245: FutureWarning: The default value of n_estimators will change from 10 in version 0.20 to 100 in 0.22.\n",
      "  \"10 in version 0.20 to 100 in 0.22.\", FutureWarning)\n"
     ]
    }
   ],
   "source": [
    "#Run Model\n",
    "M3Name = \"RF Regressor\"\n",
    "M3_model = RandomForestRegressor()\n",
    "M3_train = M3_model.fit(X_train,y_train)\n",
    "M3_predict = M3_train.predict(X_test)\n",
    "\n",
    "#Assess Fit\n",
    "M3_MAE = mean_absolute_error(y_test, M3_predict)\n",
    "M3_r2 = r2_score(y_test, M3_predict )\n",
    "\n",
    "#Add model stats to summary table\n",
    "M3_stats = pd.DataFrame( {'Model' : [M3Name] , 'Mean Abs Error' : [M3_MAE], \"r2\": [M3_r2]})\n",
    "M_summary = M_summary.append(M3_stats, ignore_index=True )"
   ]
  },
  {
   "cell_type": "markdown",
   "metadata": {},
   "source": [
    "## Model 4: KNeighbors Regressor"
   ]
  },
  {
   "cell_type": "code",
   "execution_count": 14,
   "metadata": {},
   "outputs": [],
   "source": [
    "#Run Model\n",
    "M4Name = \"KNeighbors Regressor\"\n",
    "M4_model = KNeighborsRegressor(n_neighbors=5)\n",
    "M4_train = M4_model.fit(X_train,y_train)\n",
    "M4_predict = M4_train.predict(X_test)\n",
    "\n",
    "#Assess Fit\n",
    "M4_MAE = mean_absolute_error(y_test, M4_predict)\n",
    "M4_r2 = r2_score(y_test, M4_predict )\n",
    "\n",
    "#Add model stats to summary table\n",
    "M4_stats = pd.DataFrame( {'Model' : [M4Name] , 'Mean Abs Error' : [M4_MAE], \"r2\": [M4_r2]})\n",
    "M_summary = M_summary.append(M4_stats, ignore_index=True )"
   ]
  },
  {
   "cell_type": "markdown",
   "metadata": {},
   "source": [
    "# Model Comparison"
   ]
  },
  {
   "cell_type": "code",
   "execution_count": 15,
   "metadata": {},
   "outputs": [],
   "source": [
    "M_summary = M_summary.set_index(\"Model\")"
   ]
  },
  {
   "cell_type": "code",
   "execution_count": 16,
   "metadata": {},
   "outputs": [
    {
     "data": {
      "text/plain": [
       "array([<matplotlib.axes._subplots.AxesSubplot object at 0x0000020B6D43A4E0>,\n",
       "       <matplotlib.axes._subplots.AxesSubplot object at 0x0000020B6D3FFBE0>],\n",
       "      dtype=object)"
      ]
     },
     "execution_count": 16,
     "metadata": {},
     "output_type": "execute_result"
    },
    {
     "data": {
      "image/png": "[encoded data removed]",
      "text/plain": [
       "<Figure size 432x288 with 2 Axes>"
      ]
     },
     "metadata": {
      "needs_background": "light"
     },
     "output_type": "display_data"
    }
   ],
   "source": [
    "M_summary.plot.bar(rot=0, subplots=True)"
   ]
  },
  {
   "cell_type": "markdown",
   "metadata": {},
   "source": [
    "Minor difference in square error for each model. \n",
    "Some models have a negative correlation and some have a positive correlation. \n"
   ]
  },
  {
   "cell_type": "code",
   "execution_count": 17,
   "metadata": {},
   "outputs": [
    {
     "data": {
      "text/html": [
       "<div>\n",
       "<style scoped>\n",
       "    .dataframe tbody tr th:only-of-type {\n",
       "        vertical-align: middle;\n",
       "    }\n",
       "\n",
       "    .dataframe tbody tr th {\n",
       "        vertical-align: top;\n",
       "    }\n",
       "\n",
       "    .dataframe thead th {\n",
       "        text-align: right;\n",
       "    }\n",
       "</style>\n",
       "<table border=\"1\" class=\"dataframe\">\n",
       "  <thead>\n",
       "    <tr style=\"text-align: right;\">\n",
       "      <th></th>\n",
       "      <th>PV</th>\n",
       "      <th>M1_Median</th>\n",
       "      <th>DT Regressor</th>\n",
       "      <th>RF Regressor</th>\n",
       "      <th>KNeighbors Regressor</th>\n",
       "    </tr>\n",
       "  </thead>\n",
       "  <tbody>\n",
       "    <tr>\n",
       "      <th>204</th>\n",
       "      <td>95.3</td>\n",
       "      <td>74.6</td>\n",
       "      <td>85.66</td>\n",
       "      <td>86.626516</td>\n",
       "      <td>85.66</td>\n",
       "    </tr>\n",
       "    <tr>\n",
       "      <th>273</th>\n",
       "      <td>105.0</td>\n",
       "      <td>74.6</td>\n",
       "      <td>85.66</td>\n",
       "      <td>86.626516</td>\n",
       "      <td>85.66</td>\n",
       "    </tr>\n",
       "    <tr>\n",
       "      <th>196</th>\n",
       "      <td>65.4</td>\n",
       "      <td>74.6</td>\n",
       "      <td>64.95</td>\n",
       "      <td>63.663333</td>\n",
       "      <td>90.60</td>\n",
       "    </tr>\n",
       "    <tr>\n",
       "      <th>31</th>\n",
       "      <td>80.6</td>\n",
       "      <td>74.6</td>\n",
       "      <td>106.10</td>\n",
       "      <td>88.490000</td>\n",
       "      <td>71.80</td>\n",
       "    </tr>\n",
       "    <tr>\n",
       "      <th>74</th>\n",
       "      <td>101.7</td>\n",
       "      <td>74.6</td>\n",
       "      <td>53.95</td>\n",
       "      <td>62.152000</td>\n",
       "      <td>88.86</td>\n",
       "    </tr>\n",
       "  </tbody>\n",
       "</table>\n",
       "</div>"
      ],
      "text/plain": [
       "        PV  M1_Median  DT Regressor  RF Regressor  KNeighbors Regressor\n",
       "204   95.3       74.6         85.66     86.626516                 85.66\n",
       "273  105.0       74.6         85.66     86.626516                 85.66\n",
       "196   65.4       74.6         64.95     63.663333                 90.60\n",
       "31    80.6       74.6        106.10     88.490000                 71.80\n",
       "74   101.7       74.6         53.95     62.152000                 88.86"
      ]
     },
     "execution_count": 17,
     "metadata": {},
     "output_type": "execute_result"
    }
   ],
   "source": [
    "#Combine all predicted data sets to compare against actual\n",
    "predictions = pd.DataFrame(y_test)\n",
    "predictions[M1Name] = M1_predict\n",
    "predictions[M2Name] = M2_predict\n",
    "predictions[M3Name] = M3_predict\n",
    "predictions[M4Name] = M4_predict\n",
    "predictions.head()"
   ]
  },
  {
   "cell_type": "code",
   "execution_count": 18,
   "metadata": {},
   "outputs": [
    {
     "data": {
      "text/plain": [
       "<matplotlib.legend.Legend at 0x20b6d53b278>"
      ]
     },
     "execution_count": 18,
     "metadata": {},
     "output_type": "execute_result"
    },
    {
     "data": {
      "image/png": "[encoded data removed]",
      "text/plain": [
       "<Figure size 432x288 with 1 Axes>"
      ]
     },
     "metadata": {
      "needs_background": "light"
     },
     "output_type": "display_data"
    }
   ],
   "source": [
    "plt.plot(predictions[PV],predictions[PV], \"b--\", label =\"Actual\")\n",
    "plt.scatter(predictions[PV],predictions[M1Name], label =M1Name)\n",
    "plt.scatter(predictions[PV],predictions[M2Name], label =M2Name)\n",
    "plt.scatter(predictions[PV],predictions[M3Name], label =M3Name)\n",
    "plt.scatter(predictions[PV],predictions[M4Name], label =M4Name)\n",
    "plt.title(\"Test Set: Predicted vs Actual PV\")\n",
    "plt.xlabel(\"Actual PV\")\n",
    "plt.ylabel(\"Predicted PV\")\n",
    "plt.xlim(40,300)\n",
    "plt.ylim(40,300)\n",
    "plt.legend()"
   ]
  },
  {
   "cell_type": "markdown",
   "metadata": {},
   "source": [
    "With the very limited input data, models do not perform. Correct correlations are not even noted. "
   ]
  },
  {
   "cell_type": "code",
   "execution_count": null,
   "metadata": {},
   "outputs": [],
   "source": []
  }
 ],
 "metadata": {
  "kernelspec": {
   "display_name": "Python 3",
   "language": "python",
   "name": "python3"
  },
  "language_info": {
   "codemirror_mode": {
    "name": "ipython",
    "version": 3
   },
   "file_extension": ".py",
   "mimetype": "text/x-python",
   "name": "python",
   "nbconvert_exporter": "python",
   "pygments_lexer": "ipython3",
   "version": "3.7.3"
  }
 },
 "nbformat": 4,
 "nbformat_minor": 2
}
